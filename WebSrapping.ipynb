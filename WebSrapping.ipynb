{
 "cells": [
  {
   "cell_type": "code",
   "execution_count": 1,
   "metadata": {},
   "outputs": [],
   "source": [
    "from bs4 import BeautifulSoup"
   ]
  },
  {
   "cell_type": "code",
   "execution_count": 2,
   "metadata": {},
   "outputs": [],
   "source": [
    "import urllib3\n",
    "import requests\n",
    "import pandas as pd\n",
    "# get source code of the page\n",
    "def get_url(url):\n",
    "    return urllib3.urlopen(url).read()\n",
    "\n",
    "# makes the source tree format like \n",
    "def beautify(url):\n",
    "    source = get_url(url)\n",
    "    return BeautifulSoup(source,\"html.parser\")"
   ]
  },
  {
   "cell_type": "code",
   "execution_count": 3,
   "metadata": {},
   "outputs": [],
   "source": [
    "URL = 'https://www.indeed.co.in/jobs?as_and=data+analyst&as_phr=&as_any=&as_not=&as_ttl=&as_cmp=&jt=all&st=&as_src=&salary=&radius=25&l=&fromage=any&limit=50&sort=&psf=advsrch&from=advancedsearch'\n",
    "page = requests.get(URL)\n",
    "\n",
    "soup = BeautifulSoup(page.content, 'html.parser')"
   ]
  },
  {
   "cell_type": "code",
   "execution_count": 5,
   "metadata": {},
   "outputs": [],
   "source": [
    "def title(soup):\n",
    "    jobs = []\n",
    "    for i in soup.find_all(name=\"div\", attrs={\"class\":\"row\"}):\n",
    "        for a in i.find_all(name=\"a\", attrs={\"data-tn-element\":\"jobTitle\"}):\n",
    "              jobs.append(a[\"title\"])\n",
    "    return(jobs[:-6])"
   ]
  },
  {
   "cell_type": "code",
   "execution_count": 6,
   "metadata": {},
   "outputs": [],
   "source": [
    "def comp(soup): \n",
    "    companies = []\n",
    "    for i in soup.find_all(name=\"div\", attrs={\"class\":\"row\"}):\n",
    "        company = i.find_all(name=\"span\", attrs={\"class\":\"company\"})\n",
    "        if len(company) > 0:\n",
    "            for i in company:\n",
    "                companies.append(i.text.strip())\n",
    "        else:\n",
    "            b = i.find_all(name=\"span\", attrs={\"class\":\"result-link-source\"})\n",
    "            for j in b:\n",
    "                companies.append(j.text.strip())\n",
    "    return(companies[:-6])"
   ]
  },
  {
   "cell_type": "code",
   "execution_count": 7,
   "metadata": {},
   "outputs": [],
   "source": [
    "def loc(soup): \n",
    "    locations = []\n",
    "    spans = soup.findAll('span', attrs={'class': 'location'})\n",
    "    for i in spans:\n",
    "        locations.append(i.text)\n",
    "    return(locations)"
   ]
  },
  {
   "cell_type": "code",
   "execution_count": 8,
   "metadata": {},
   "outputs": [],
   "source": [
    "def sal(soup): \n",
    "    salaries = []\n",
    "    for i in soup.find_all(name='div', attrs={'class':'row'}):\n",
    "        sal = i.find(name='div', attrs={'class':'salarySnippet'})\n",
    "        salaries.append(sal.text.strip() if sal else 'Nil')\n",
    "    return(salaries[:-6])"
   ]
  },
  {
   "cell_type": "code",
   "execution_count": 9,
   "metadata": {},
   "outputs": [],
   "source": [
    "jobs = title(soup)\n",
    "companies=comp(soup)\n",
    "locations=loc(soup)\n",
    "salary=sal(soup)"
   ]
  },
  {
   "cell_type": "code",
   "execution_count": 10,
   "metadata": {},
   "outputs": [],
   "source": [
    "job_list=pd.DataFrame({'Job Title':jobs, 'Company':companies,'Location':locations,'Salary':salary})"
   ]
  },
  {
   "cell_type": "code",
   "execution_count": 11,
   "metadata": {},
   "outputs": [],
   "source": [
    "job_list=job_list.to_excel(\"job_list.xls\")"
   ]
  }
 ],
 "metadata": {
  "hide_input": false,
  "kernelspec": {
   "display_name": "Python 3",
   "language": "python",
   "name": "python3"
  },
  "language_info": {
   "codemirror_mode": {
    "name": "ipython",
    "version": 3
   },
   "file_extension": ".py",
   "mimetype": "text/x-python",
   "name": "python",
   "nbconvert_exporter": "python",
   "pygments_lexer": "ipython3",
   "version": "3.7.6"
  },
  "nbTranslate": {
   "displayLangs": [
    "*"
   ],
   "hotkey": "alt-t",
   "langInMainMenu": true,
   "sourceLang": "en",
   "targetLang": "fr",
   "useGoogleTranslate": true
  }
 },
 "nbformat": 4,
 "nbformat_minor": 4
}
